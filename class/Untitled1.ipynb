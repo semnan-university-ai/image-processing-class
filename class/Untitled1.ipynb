{
  "nbformat": 4,
  "nbformat_minor": 0,
  "metadata": {
    "colab": {
      "name": "Untitled5.ipynb",
      "provenance": [],
      "collapsed_sections": []
    },
    "kernelspec": {
      "name": "python3",
      "display_name": "Python 3"
    },
    "language_info": {
      "name": "python"
    }
  },
  "cells": [
    {
      "cell_type": "code",
      "metadata": {
        "id": "gUs48FLbB7IL"
      },
      "source": [
        "number1 = 10"
      ],
      "execution_count": null,
      "outputs": []
    },
    {
      "cell_type": "code",
      "metadata": {
        "id": "FiHr7blyDNAv"
      },
      "source": [
        "name1 = \"amir\""
      ],
      "execution_count": null,
      "outputs": []
    },
    {
      "cell_type": "code",
      "metadata": {
        "id": "ZrjNL8IJDPiO"
      },
      "source": [
        "number2 = 1.2"
      ],
      "execution_count": null,
      "outputs": []
    },
    {
      "cell_type": "code",
      "metadata": {
        "colab": {
          "base_uri": "https://localhost:8080/"
        },
        "id": "hdAbv6wVDR3-",
        "outputId": "07326741-3029-4e2d-a3b3-bfd02e999912"
      },
      "source": [
        "print(type(number1))\n",
        "\n",
        "print(type(name1))\n",
        "\n",
        "print(type(number2))"
      ],
      "execution_count": null,
      "outputs": [
        {
          "output_type": "stream",
          "text": [
            "<class 'int'>\n",
            "<class 'str'>\n",
            "<class 'float'>\n"
          ],
          "name": "stdout"
        }
      ]
    },
    {
      "cell_type": "code",
      "metadata": {
        "colab": {
          "base_uri": "https://localhost:8080/"
        },
        "id": "iyqAXBASDdKB",
        "outputId": "0b99eac5-089b-4bdb-8510-dce36166546b"
      },
      "source": [
        "print(number1)"
      ],
      "execution_count": null,
      "outputs": [
        {
          "output_type": "stream",
          "text": [
            "10\n"
          ],
          "name": "stdout"
        }
      ]
    },
    {
      "cell_type": "code",
      "metadata": {
        "colab": {
          "base_uri": "https://localhost:8080/"
        },
        "id": "4noj7l-sDkDi",
        "outputId": "33c8edf3-0d89-41d1-844d-c2e80c756bc5"
      },
      "source": [
        "print( number1 + number2 )"
      ],
      "execution_count": null,
      "outputs": [
        {
          "output_type": "stream",
          "text": [
            "11.2\n"
          ],
          "name": "stdout"
        }
      ]
    },
    {
      "cell_type": "code",
      "metadata": {
        "colab": {
          "base_uri": "https://localhost:8080/"
        },
        "id": "pNIX2rlDDsEh",
        "outputId": "51c41d37-455e-49e0-85de-1b985c8f50d3"
      },
      "source": [
        "print( int(number2) )"
      ],
      "execution_count": null,
      "outputs": [
        {
          "output_type": "stream",
          "text": [
            "1\n"
          ],
          "name": "stdout"
        }
      ]
    },
    {
      "cell_type": "code",
      "metadata": {
        "colab": {
          "base_uri": "https://localhost:8080/"
        },
        "id": "ecis0CDpDz4O",
        "outputId": "49e01d53-9523-4b33-87f7-d3458401f4d3"
      },
      "source": [
        "print( str(number1) )"
      ],
      "execution_count": null,
      "outputs": [
        {
          "output_type": "stream",
          "text": [
            "10\n"
          ],
          "name": "stdout"
        }
      ]
    },
    {
      "cell_type": "code",
      "metadata": {
        "colab": {
          "base_uri": "https://localhost:8080/"
        },
        "id": "qvlTDehkD33V",
        "outputId": "ecab00fa-8ed6-4f84-8e59-34ea953c64b8"
      },
      "source": [
        "number3 = str(number1);\n",
        "\n",
        "print(type(number1))\n",
        "\n",
        "print(type(number3))"
      ],
      "execution_count": null,
      "outputs": [
        {
          "output_type": "stream",
          "text": [
            "<class 'int'>\n",
            "<class 'str'>\n"
          ],
          "name": "stdout"
        }
      ]
    },
    {
      "cell_type": "code",
      "metadata": {
        "colab": {
          "base_uri": "https://localhost:8080/"
        },
        "id": "FceKkoJSECUi",
        "outputId": "14938b20-784c-4d92-f93c-6dd5dbee4855"
      },
      "source": [
        "number1 is number2"
      ],
      "execution_count": null,
      "outputs": [
        {
          "output_type": "execute_result",
          "data": {
            "text/plain": [
              "False"
            ]
          },
          "metadata": {
            "tags": []
          },
          "execution_count": 14
        }
      ]
    },
    {
      "cell_type": "code",
      "metadata": {
        "colab": {
          "base_uri": "https://localhost:8080/"
        },
        "id": "4oxDvhf7EHzB",
        "outputId": "8f8177a7-2641-4313-d95d-8ced21965716"
      },
      "source": [
        "number1 is 10"
      ],
      "execution_count": null,
      "outputs": [
        {
          "output_type": "execute_result",
          "data": {
            "text/plain": [
              "True"
            ]
          },
          "metadata": {
            "tags": []
          },
          "execution_count": 15
        }
      ]
    },
    {
      "cell_type": "code",
      "metadata": {
        "colab": {
          "base_uri": "https://localhost:8080/"
        },
        "id": "ptbXX8TZTYR9",
        "outputId": "052e771a-2660-434a-d205-9f6282ccf557"
      },
      "source": [
        "print(10)"
      ],
      "execution_count": null,
      "outputs": [
        {
          "output_type": "stream",
          "text": [
            "10\n"
          ],
          "name": "stdout"
        }
      ]
    },
    {
      "cell_type": "markdown",
      "metadata": {
        "id": "pMGZQzYPTaai"
      },
      "source": [
        "## Amir\n",
        "* 1\n",
        "* 2\n",
        "* 3\n",
        "\n",
        "**bold**"
      ]
    },
    {
      "cell_type": "markdown",
      "metadata": {
        "id": "0VRqy5pDEbSc"
      },
      "source": [
        "***dawdwdwawdawdwad***\n",
        "\n",
        "123e3423wesr3qedshfelejkjakfaf'wada"
      ]
    },
    {
      "cell_type": "code",
      "metadata": {
        "colab": {
          "base_uri": "https://localhost:8080/"
        },
        "id": "Lu3KYKHMEjFZ",
        "outputId": "74994e14-772c-4030-cdd3-39867c6e95a5"
      },
      "source": [
        "print(10)"
      ],
      "execution_count": null,
      "outputs": [
        {
          "output_type": "stream",
          "text": [
            "10\n"
          ],
          "name": "stdout"
        }
      ]
    },
    {
      "cell_type": "markdown",
      "metadata": {
        "id": "LeqnigsxEnqp"
      },
      "source": [
        "### Heading 3"
      ]
    },
    {
      "cell_type": "code",
      "metadata": {
        "id": "UUM42_PCEsVw"
      },
      "source": [
        "# print(10)"
      ],
      "execution_count": null,
      "outputs": []
    },
    {
      "cell_type": "code",
      "metadata": {
        "colab": {
          "base_uri": "https://localhost:8080/"
        },
        "id": "znsk-RvTE27v",
        "outputId": "a007351e-d75c-48f4-af40-96c3e2deb374"
      },
      "source": [
        "if number1 == number2 :\n",
        "  print(\"true\")\n",
        "  print(10)\n",
        "  print(20)\n",
        "else:\n",
        "  print(\"false\")"
      ],
      "execution_count": null,
      "outputs": [
        {
          "output_type": "stream",
          "text": [
            "false\n"
          ],
          "name": "stdout"
        }
      ]
    },
    {
      "cell_type": "code",
      "metadata": {
        "colab": {
          "base_uri": "https://localhost:8080/"
        },
        "id": "sSjfz3wTFUDv",
        "outputId": "5444aaed-c282-454b-8e07-07a889a33832"
      },
      "source": [
        "if number1 != number2 :\n",
        "  if number1 == number3 :\n",
        "    print(\"nist\")\n",
        "  else:\n",
        "    print(\"hast\")\n",
        "else:\n",
        "  print(\"test\")"
      ],
      "execution_count": null,
      "outputs": [
        {
          "output_type": "stream",
          "text": [
            "hast\n"
          ],
          "name": "stdout"
        }
      ]
    },
    {
      "cell_type": "code",
      "metadata": {
        "colab": {
          "base_uri": "https://localhost:8080/"
        },
        "id": "ug9jzHAYFsBA",
        "outputId": "493ef0f0-126a-4880-b0dd-a844a50b5b70"
      },
      "source": [
        "if number1 == number2:\n",
        "  print(1)\n",
        "elif number2 == number3:\n",
        "  print(2)\n",
        "else:\n",
        "  print(3)"
      ],
      "execution_count": null,
      "outputs": [
        {
          "output_type": "stream",
          "text": [
            "3\n"
          ],
          "name": "stdout"
        }
      ]
    },
    {
      "cell_type": "code",
      "metadata": {
        "colab": {
          "base_uri": "https://localhost:8080/"
        },
        "id": "Vut-wyzWGCFr",
        "outputId": "c13f4d00-3620-4082-b74f-5847b439b742"
      },
      "source": [
        "for i in range(5):\n",
        "  print(i)"
      ],
      "execution_count": null,
      "outputs": [
        {
          "output_type": "stream",
          "text": [
            "0\n",
            "1\n",
            "2\n",
            "3\n",
            "4\n"
          ],
          "name": "stdout"
        }
      ]
    },
    {
      "cell_type": "code",
      "metadata": {
        "colab": {
          "base_uri": "https://localhost:8080/"
        },
        "id": "WK0lEataGarQ",
        "outputId": "0e2d0707-de19-415e-c061-9595407f67e0"
      },
      "source": [
        "for i in range(4, 10):\n",
        "  print(i)"
      ],
      "execution_count": null,
      "outputs": [
        {
          "output_type": "stream",
          "text": [
            "4\n",
            "5\n",
            "6\n",
            "7\n",
            "8\n",
            "9\n"
          ],
          "name": "stdout"
        }
      ]
    },
    {
      "cell_type": "code",
      "metadata": {
        "colab": {
          "base_uri": "https://localhost:8080/",
          "height": 132
        },
        "id": "J-ZMNqJzGiQE",
        "outputId": "bbdf3948-6dad-45dc-acc6-babaccd66864"
      },
      "source": [
        "for i in range(1, 10):\n",
        "  for j in range(1, 10):\n",
        "    # print( i*j)\n"
      ],
      "execution_count": null,
      "outputs": [
        {
          "output_type": "error",
          "ename": "SyntaxError",
          "evalue": "ignored",
          "traceback": [
            "\u001b[0;36m  File \u001b[0;32m\"<ipython-input-28-8c4a8b956c03>\"\u001b[0;36m, line \u001b[0;32m3\u001b[0m\n\u001b[0;31m    #print( i*j)\u001b[0m\n\u001b[0m                ^\u001b[0m\n\u001b[0;31mSyntaxError\u001b[0m\u001b[0;31m:\u001b[0m unexpected EOF while parsing\n"
          ]
        }
      ]
    },
    {
      "cell_type": "code",
      "metadata": {
        "id": "UGcu1vG7GyM9"
      },
      "source": [
        ""
      ],
      "execution_count": null,
      "outputs": []
    },
    {
      "cell_type": "code",
      "metadata": {
        "colab": {
          "base_uri": "https://localhost:8080/"
        },
        "id": "sYEUFnXAGyG2",
        "outputId": "05770b10-db8f-46e4-f8e7-3e67492e86e5"
      },
      "source": [
        "for i in range(10):\n",
        "  if i == 2:\n",
        "    continue\n",
        "  if i == 8:\n",
        "    break\n",
        "  print(i)\n",
        "\n",
        "\n",
        "  # aaaa"
      ],
      "execution_count": null,
      "outputs": [
        {
          "output_type": "stream",
          "text": [
            "0\n",
            "1\n",
            "3\n",
            "4\n",
            "5\n",
            "6\n",
            "7\n"
          ],
          "name": "stdout"
        }
      ]
    },
    {
      "cell_type": "code",
      "metadata": {
        "colab": {
          "base_uri": "https://localhost:8080/"
        },
        "id": "xzIeHDfyHgDP",
        "outputId": "90a88bf3-9f4f-4563-dcc6-997f774d0f44"
      },
      "source": [
        "for i in range(100):\n",
        "  if i % 2 == 0:\n",
        "    print(i)"
      ],
      "execution_count": null,
      "outputs": [
        {
          "output_type": "stream",
          "text": [
            "0\n",
            "2\n",
            "4\n",
            "6\n",
            "8\n",
            "10\n",
            "12\n",
            "14\n",
            "16\n",
            "18\n",
            "20\n",
            "22\n",
            "24\n",
            "26\n",
            "28\n",
            "30\n",
            "32\n",
            "34\n",
            "36\n",
            "38\n",
            "40\n",
            "42\n",
            "44\n",
            "46\n",
            "48\n",
            "50\n",
            "52\n",
            "54\n",
            "56\n",
            "58\n",
            "60\n",
            "62\n",
            "64\n",
            "66\n",
            "68\n",
            "70\n",
            "72\n",
            "74\n",
            "76\n",
            "78\n",
            "80\n",
            "82\n",
            "84\n",
            "86\n",
            "88\n",
            "90\n",
            "92\n",
            "94\n",
            "96\n",
            "98\n"
          ],
          "name": "stdout"
        }
      ]
    },
    {
      "cell_type": "code",
      "metadata": {
        "id": "71h-C-TCIqm_"
      },
      "source": [
        "numbers = [ 2, 4, 6, 8 ]"
      ],
      "execution_count": null,
      "outputs": []
    },
    {
      "cell_type": "code",
      "metadata": {
        "colab": {
          "base_uri": "https://localhost:8080/"
        },
        "id": "EtesODzcIqli",
        "outputId": "55a162e9-9f3a-4c57-f7d5-dc6671d1f095"
      },
      "source": [
        "print(numbers)"
      ],
      "execution_count": null,
      "outputs": [
        {
          "output_type": "stream",
          "text": [
            "[2, 4, 6, 8]\n"
          ],
          "name": "stdout"
        }
      ]
    },
    {
      "cell_type": "code",
      "metadata": {
        "colab": {
          "base_uri": "https://localhost:8080/"
        },
        "id": "qzvO1NIcI4lB",
        "outputId": "2d3bf03f-28c9-4837-df29-4901e0b0eae0"
      },
      "source": [
        "for i in range(len(numbers)):\n",
        "  print(numbers[i])"
      ],
      "execution_count": null,
      "outputs": [
        {
          "output_type": "stream",
          "text": [
            "2\n",
            "4\n",
            "6\n",
            "8\n"
          ],
          "name": "stdout"
        }
      ]
    },
    {
      "cell_type": "code",
      "metadata": {
        "colab": {
          "base_uri": "https://localhost:8080/"
        },
        "id": "bGfnDo0sJNty",
        "outputId": "f10bccf8-f0b9-476e-bab8-0ce79df5f0b2"
      },
      "source": [
        "len(numbers)"
      ],
      "execution_count": null,
      "outputs": [
        {
          "output_type": "execute_result",
          "data": {
            "text/plain": [
              "4"
            ]
          },
          "metadata": {
            "tags": []
          },
          "execution_count": 41
        },
        {
          "output_type": "execute_result",
          "data": {
            "text/plain": [
              "4"
            ]
          },
          "metadata": {
            "tags": []
          },
          "execution_count": 42
        }
      ]
    },
    {
      "cell_type": "code",
      "metadata": {
        "id": "p9Dvv8nJJ3I6"
      },
      "source": [
        "numbers = [ [ 1, 2, 3 ], [ 4, 5, 6 ] ]"
      ],
      "execution_count": null,
      "outputs": []
    },
    {
      "cell_type": "code",
      "metadata": {
        "colab": {
          "base_uri": "https://localhost:8080/"
        },
        "id": "8r5xQGOPJ_4Q",
        "outputId": "8f460a93-1c18-4756-b315-7ca437645535"
      },
      "source": [
        "for i in range(len(numbers)):\n",
        "  print(numbers[i][0])\n",
        "\n",
        "# image(2, 5)"
      ],
      "execution_count": null,
      "outputs": [
        {
          "output_type": "stream",
          "text": [
            "1\n",
            "4\n"
          ],
          "name": "stdout"
        }
      ]
    }
  ]
}